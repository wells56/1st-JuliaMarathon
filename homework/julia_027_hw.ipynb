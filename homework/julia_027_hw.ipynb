{
 "cells": [
  {
   "cell_type": "markdown",
   "metadata": {},
   "source": [
    "# Julia 機器學習：GLM 線性迴歸\n",
    "\n",
    "## 作業 027：波士頓房價預測資料集\n",
    "\n",
    "請使用 GLM 中的模型，建立一個預測模型來預測波士頓的房價。"
   ]
  },
  {
   "cell_type": "code",
   "execution_count": 1,
   "metadata": {},
   "outputs": [],
   "source": [
    "using GLM, RDatasets, MLDataUtils"
   ]
  },
  {
   "cell_type": "markdown",
   "metadata": {},
   "source": [
    "## 讀取資料"
   ]
  },
  {
   "cell_type": "code",
   "execution_count": 2,
   "metadata": {},
   "outputs": [
    {
     "data": {
      "text/html": [
       "<table class=\"data-frame\"><thead><tr><th></th><th>Crim</th><th>Zn</th><th>Indus</th><th>Chas</th><th>NOx</th><th>Rm</th><th>Age</th><th>Dis</th><th>Rad</th><th>Tax</th></tr><tr><th></th><th>Float64</th><th>Float64</th><th>Float64</th><th>Int64</th><th>Float64</th><th>Float64</th><th>Float64</th><th>Float64</th><th>Int64</th><th>Int64</th></tr></thead><tbody><p>10 rows × 14 columns (omitted printing of 4 columns)</p><tr><th>1</th><td>0.00632</td><td>18.0</td><td>2.31</td><td>0</td><td>0.538</td><td>6.575</td><td>65.2</td><td>4.09</td><td>1</td><td>296</td></tr><tr><th>2</th><td>0.02731</td><td>0.0</td><td>7.07</td><td>0</td><td>0.469</td><td>6.421</td><td>78.9</td><td>4.9671</td><td>2</td><td>242</td></tr><tr><th>3</th><td>0.02729</td><td>0.0</td><td>7.07</td><td>0</td><td>0.469</td><td>7.185</td><td>61.1</td><td>4.9671</td><td>2</td><td>242</td></tr><tr><th>4</th><td>0.03237</td><td>0.0</td><td>2.18</td><td>0</td><td>0.458</td><td>6.998</td><td>45.8</td><td>6.0622</td><td>3</td><td>222</td></tr><tr><th>5</th><td>0.06905</td><td>0.0</td><td>2.18</td><td>0</td><td>0.458</td><td>7.147</td><td>54.2</td><td>6.0622</td><td>3</td><td>222</td></tr><tr><th>6</th><td>0.02985</td><td>0.0</td><td>2.18</td><td>0</td><td>0.458</td><td>6.43</td><td>58.7</td><td>6.0622</td><td>3</td><td>222</td></tr><tr><th>7</th><td>0.08829</td><td>12.5</td><td>7.87</td><td>0</td><td>0.524</td><td>6.012</td><td>66.6</td><td>5.5605</td><td>5</td><td>311</td></tr><tr><th>8</th><td>0.14455</td><td>12.5</td><td>7.87</td><td>0</td><td>0.524</td><td>6.172</td><td>96.1</td><td>5.9505</td><td>5</td><td>311</td></tr><tr><th>9</th><td>0.21124</td><td>12.5</td><td>7.87</td><td>0</td><td>0.524</td><td>5.631</td><td>100.0</td><td>6.0821</td><td>5</td><td>311</td></tr><tr><th>10</th><td>0.17004</td><td>12.5</td><td>7.87</td><td>0</td><td>0.524</td><td>6.004</td><td>85.9</td><td>6.5921</td><td>5</td><td>311</td></tr></tbody></table>"
      ],
      "text/latex": [
       "\\begin{tabular}{r|ccccccccccc}\n",
       "\t& Crim & Zn & Indus & Chas & NOx & Rm & Age & Dis & Rad & Tax & \\\\\n",
       "\t\\hline\n",
       "\t& Float64 & Float64 & Float64 & Int64 & Float64 & Float64 & Float64 & Float64 & Int64 & Int64 & \\\\\n",
       "\t\\hline\n",
       "\t1 & 0.00632 & 18.0 & 2.31 & 0 & 0.538 & 6.575 & 65.2 & 4.09 & 1 & 296 & $\\dots$ \\\\\n",
       "\t2 & 0.02731 & 0.0 & 7.07 & 0 & 0.469 & 6.421 & 78.9 & 4.9671 & 2 & 242 & $\\dots$ \\\\\n",
       "\t3 & 0.02729 & 0.0 & 7.07 & 0 & 0.469 & 7.185 & 61.1 & 4.9671 & 2 & 242 & $\\dots$ \\\\\n",
       "\t4 & 0.03237 & 0.0 & 2.18 & 0 & 0.458 & 6.998 & 45.8 & 6.0622 & 3 & 222 & $\\dots$ \\\\\n",
       "\t5 & 0.06905 & 0.0 & 2.18 & 0 & 0.458 & 7.147 & 54.2 & 6.0622 & 3 & 222 & $\\dots$ \\\\\n",
       "\t6 & 0.02985 & 0.0 & 2.18 & 0 & 0.458 & 6.43 & 58.7 & 6.0622 & 3 & 222 & $\\dots$ \\\\\n",
       "\t7 & 0.08829 & 12.5 & 7.87 & 0 & 0.524 & 6.012 & 66.6 & 5.5605 & 5 & 311 & $\\dots$ \\\\\n",
       "\t8 & 0.14455 & 12.5 & 7.87 & 0 & 0.524 & 6.172 & 96.1 & 5.9505 & 5 & 311 & $\\dots$ \\\\\n",
       "\t9 & 0.21124 & 12.5 & 7.87 & 0 & 0.524 & 5.631 & 100.0 & 6.0821 & 5 & 311 & $\\dots$ \\\\\n",
       "\t10 & 0.17004 & 12.5 & 7.87 & 0 & 0.524 & 6.004 & 85.9 & 6.5921 & 5 & 311 & $\\dots$ \\\\\n",
       "\\end{tabular}\n"
      ],
      "text/plain": [
       "10×14 DataFrame. Omitted printing of 7 columns\n",
       "│ Row │ Crim    │ Zn      │ Indus   │ Chas  │ NOx     │ Rm      │ Age     │\n",
       "│     │ \u001b[90mFloat64\u001b[39m │ \u001b[90mFloat64\u001b[39m │ \u001b[90mFloat64\u001b[39m │ \u001b[90mInt64\u001b[39m │ \u001b[90mFloat64\u001b[39m │ \u001b[90mFloat64\u001b[39m │ \u001b[90mFloat64\u001b[39m │\n",
       "├─────┼─────────┼─────────┼─────────┼───────┼─────────┼─────────┼─────────┤\n",
       "│ 1   │ 0.00632 │ 18.0    │ 2.31    │ 0     │ 0.538   │ 6.575   │ 65.2    │\n",
       "│ 2   │ 0.02731 │ 0.0     │ 7.07    │ 0     │ 0.469   │ 6.421   │ 78.9    │\n",
       "│ 3   │ 0.02729 │ 0.0     │ 7.07    │ 0     │ 0.469   │ 7.185   │ 61.1    │\n",
       "│ 4   │ 0.03237 │ 0.0     │ 2.18    │ 0     │ 0.458   │ 6.998   │ 45.8    │\n",
       "│ 5   │ 0.06905 │ 0.0     │ 2.18    │ 0     │ 0.458   │ 7.147   │ 54.2    │\n",
       "│ 6   │ 0.02985 │ 0.0     │ 2.18    │ 0     │ 0.458   │ 6.43    │ 58.7    │\n",
       "│ 7   │ 0.08829 │ 12.5    │ 7.87    │ 0     │ 0.524   │ 6.012   │ 66.6    │\n",
       "│ 8   │ 0.14455 │ 12.5    │ 7.87    │ 0     │ 0.524   │ 6.172   │ 96.1    │\n",
       "│ 9   │ 0.21124 │ 12.5    │ 7.87    │ 0     │ 0.524   │ 5.631   │ 100.0   │\n",
       "│ 10  │ 0.17004 │ 12.5    │ 7.87    │ 0     │ 0.524   │ 6.004   │ 85.9    │"
      ]
     },
     "execution_count": 2,
     "metadata": {},
     "output_type": "execute_result"
    }
   ],
   "source": [
    "boston = dataset(\"MASS\", \"Boston\")\n",
    "first(boston, 10)"
   ]
  },
  {
   "cell_type": "code",
   "execution_count": 3,
   "metadata": {},
   "outputs": [
    {
     "data": {
      "text/html": [
       "<table class=\"data-frame\"><thead><tr><th></th><th>variable</th><th>mean</th><th>min</th><th>median</th><th>max</th><th>nunique</th><th>nmissing</th><th>eltype</th></tr><tr><th></th><th>Symbol</th><th>Float64</th><th>Real</th><th>Float64</th><th>Real</th><th>Nothing</th><th>Nothing</th><th>DataType</th></tr></thead><tbody><p>14 rows × 8 columns</p><tr><th>1</th><td>Crim</td><td>3.61352</td><td>0.00632</td><td>0.25651</td><td>88.9762</td><td></td><td></td><td>Float64</td></tr><tr><th>2</th><td>Zn</td><td>11.3636</td><td>0.0</td><td>0.0</td><td>100.0</td><td></td><td></td><td>Float64</td></tr><tr><th>3</th><td>Indus</td><td>11.1368</td><td>0.46</td><td>9.69</td><td>27.74</td><td></td><td></td><td>Float64</td></tr><tr><th>4</th><td>Chas</td><td>0.06917</td><td>0</td><td>0.0</td><td>1</td><td></td><td></td><td>Int64</td></tr><tr><th>5</th><td>NOx</td><td>0.554695</td><td>0.385</td><td>0.538</td><td>0.871</td><td></td><td></td><td>Float64</td></tr><tr><th>6</th><td>Rm</td><td>6.28463</td><td>3.561</td><td>6.2085</td><td>8.78</td><td></td><td></td><td>Float64</td></tr><tr><th>7</th><td>Age</td><td>68.5749</td><td>2.9</td><td>77.5</td><td>100.0</td><td></td><td></td><td>Float64</td></tr><tr><th>8</th><td>Dis</td><td>3.79504</td><td>1.1296</td><td>3.20745</td><td>12.1265</td><td></td><td></td><td>Float64</td></tr><tr><th>9</th><td>Rad</td><td>9.54941</td><td>1</td><td>5.0</td><td>24</td><td></td><td></td><td>Int64</td></tr><tr><th>10</th><td>Tax</td><td>408.237</td><td>187</td><td>330.0</td><td>711</td><td></td><td></td><td>Int64</td></tr><tr><th>11</th><td>PTRatio</td><td>18.4555</td><td>12.6</td><td>19.05</td><td>22.0</td><td></td><td></td><td>Float64</td></tr><tr><th>12</th><td>Black</td><td>356.674</td><td>0.32</td><td>391.44</td><td>396.9</td><td></td><td></td><td>Float64</td></tr><tr><th>13</th><td>LStat</td><td>12.6531</td><td>1.73</td><td>11.36</td><td>37.97</td><td></td><td></td><td>Float64</td></tr><tr><th>14</th><td>MedV</td><td>22.5328</td><td>5.0</td><td>21.2</td><td>50.0</td><td></td><td></td><td>Float64</td></tr></tbody></table>"
      ],
      "text/latex": [
       "\\begin{tabular}{r|cccccccc}\n",
       "\t& variable & mean & min & median & max & nunique & nmissing & eltype\\\\\n",
       "\t\\hline\n",
       "\t& Symbol & Float64 & Real & Float64 & Real & Nothing & Nothing & DataType\\\\\n",
       "\t\\hline\n",
       "\t1 & Crim & 3.61352 & 0.00632 & 0.25651 & 88.9762 &  &  & Float64 \\\\\n",
       "\t2 & Zn & 11.3636 & 0.0 & 0.0 & 100.0 &  &  & Float64 \\\\\n",
       "\t3 & Indus & 11.1368 & 0.46 & 9.69 & 27.74 &  &  & Float64 \\\\\n",
       "\t4 & Chas & 0.06917 & 0 & 0.0 & 1 &  &  & Int64 \\\\\n",
       "\t5 & NOx & 0.554695 & 0.385 & 0.538 & 0.871 &  &  & Float64 \\\\\n",
       "\t6 & Rm & 6.28463 & 3.561 & 6.2085 & 8.78 &  &  & Float64 \\\\\n",
       "\t7 & Age & 68.5749 & 2.9 & 77.5 & 100.0 &  &  & Float64 \\\\\n",
       "\t8 & Dis & 3.79504 & 1.1296 & 3.20745 & 12.1265 &  &  & Float64 \\\\\n",
       "\t9 & Rad & 9.54941 & 1 & 5.0 & 24 &  &  & Int64 \\\\\n",
       "\t10 & Tax & 408.237 & 187 & 330.0 & 711 &  &  & Int64 \\\\\n",
       "\t11 & PTRatio & 18.4555 & 12.6 & 19.05 & 22.0 &  &  & Float64 \\\\\n",
       "\t12 & Black & 356.674 & 0.32 & 391.44 & 396.9 &  &  & Float64 \\\\\n",
       "\t13 & LStat & 12.6531 & 1.73 & 11.36 & 37.97 &  &  & Float64 \\\\\n",
       "\t14 & MedV & 22.5328 & 5.0 & 21.2 & 50.0 &  &  & Float64 \\\\\n",
       "\\end{tabular}\n"
      ],
      "text/plain": [
       "14×8 DataFrame. Omitted printing of 1 columns\n",
       "│ Row │ variable │ mean     │ min     │ median  │ max     │ nunique │ nmissing │\n",
       "│     │ \u001b[90mSymbol\u001b[39m   │ \u001b[90mFloat64\u001b[39m  │ \u001b[90mReal\u001b[39m    │ \u001b[90mFloat64\u001b[39m │ \u001b[90mReal\u001b[39m    │ \u001b[90mNothing\u001b[39m │ \u001b[90mNothing\u001b[39m  │\n",
       "├─────┼──────────┼──────────┼─────────┼─────────┼─────────┼─────────┼──────────┤\n",
       "│ 1   │ Crim     │ 3.61352  │ 0.00632 │ 0.25651 │ 88.9762 │         │          │\n",
       "│ 2   │ Zn       │ 11.3636  │ 0.0     │ 0.0     │ 100.0   │         │          │\n",
       "│ 3   │ Indus    │ 11.1368  │ 0.46    │ 9.69    │ 27.74   │         │          │\n",
       "│ 4   │ Chas     │ 0.06917  │ 0       │ 0.0     │ 1       │         │          │\n",
       "│ 5   │ NOx      │ 0.554695 │ 0.385   │ 0.538   │ 0.871   │         │          │\n",
       "│ 6   │ Rm       │ 6.28463  │ 3.561   │ 6.2085  │ 8.78    │         │          │\n",
       "│ 7   │ Age      │ 68.5749  │ 2.9     │ 77.5    │ 100.0   │         │          │\n",
       "│ 8   │ Dis      │ 3.79504  │ 1.1296  │ 3.20745 │ 12.1265 │         │          │\n",
       "│ 9   │ Rad      │ 9.54941  │ 1       │ 5.0     │ 24      │         │          │\n",
       "│ 10  │ Tax      │ 408.237  │ 187     │ 330.0   │ 711     │         │          │\n",
       "│ 11  │ PTRatio  │ 18.4555  │ 12.6    │ 19.05   │ 22.0    │         │          │\n",
       "│ 12  │ Black    │ 356.674  │ 0.32    │ 391.44  │ 396.9   │         │          │\n",
       "│ 13  │ LStat    │ 12.6531  │ 1.73    │ 11.36   │ 37.97   │         │          │\n",
       "│ 14  │ MedV     │ 22.5328  │ 5.0     │ 21.2    │ 50.0    │         │          │"
      ]
     },
     "execution_count": 3,
     "metadata": {},
     "output_type": "execute_result"
    }
   ],
   "source": [
    "describe(boston)"
   ]
  },
  {
   "cell_type": "code",
   "execution_count": 4,
   "metadata": {},
   "outputs": [
    {
     "data": {
      "text/plain": [
       "([49, 131, 175, 169, 109, 314, 210, 180, 432, 485  …  119, 58, 246, 156, 166, 19, 282, 342, 202, 305], [272, 251, 235, 409, 506, 366, 392, 380, 40, 238  …  135, 195, 407, 92, 448, 438, 225, 362, 236, 170])"
      ]
     },
     "execution_count": 4,
     "metadata": {},
     "output_type": "execute_result"
    }
   ],
   "source": [
    "indecies = MLDataUtils.shuffleobs(collect(1:nrow(boston)))\n",
    "train_ind, test_ind = MLDataUtils.splitobs(indecies, at = 0.8)"
   ]
  },
  {
   "cell_type": "code",
   "execution_count": 5,
   "metadata": {},
   "outputs": [
    {
     "data": {
      "text/html": [
       "<table class=\"data-frame\"><thead><tr><th></th><th>Crim</th><th>Zn</th><th>Indus</th><th>Chas</th><th>NOx</th><th>Rm</th><th>Age</th><th>Dis</th><th>Rad</th><th>Tax</th></tr><tr><th></th><th>Float64</th><th>Float64</th><th>Float64</th><th>Int64</th><th>Float64</th><th>Float64</th><th>Float64</th><th>Float64</th><th>Int64</th><th>Int64</th></tr></thead><tbody><p>101 rows × 14 columns (omitted printing of 4 columns)</p><tr><th>1</th><td>0.16211</td><td>20.0</td><td>6.96</td><td>0</td><td>0.464</td><td>6.24</td><td>16.3</td><td>4.429</td><td>3</td><td>223</td></tr><tr><th>2</th><td>0.1403</td><td>22.0</td><td>5.86</td><td>0</td><td>0.431</td><td>6.487</td><td>13.0</td><td>7.3967</td><td>7</td><td>330</td></tr><tr><th>3</th><td>0.44791</td><td>0.0</td><td>6.2</td><td>1</td><td>0.507</td><td>6.726</td><td>66.5</td><td>3.6519</td><td>8</td><td>307</td></tr><tr><th>4</th><td>7.40389</td><td>0.0</td><td>18.1</td><td>0</td><td>0.597</td><td>5.617</td><td>97.9</td><td>1.4547</td><td>24</td><td>666</td></tr><tr><th>5</th><td>0.04741</td><td>0.0</td><td>11.93</td><td>0</td><td>0.573</td><td>6.03</td><td>80.8</td><td>2.505</td><td>1</td><td>273</td></tr><tr><th>6</th><td>4.55587</td><td>0.0</td><td>18.1</td><td>0</td><td>0.718</td><td>3.561</td><td>87.9</td><td>1.6132</td><td>24</td><td>666</td></tr><tr><th>7</th><td>5.29305</td><td>0.0</td><td>18.1</td><td>0</td><td>0.7</td><td>6.051</td><td>82.5</td><td>2.1678</td><td>24</td><td>666</td></tr><tr><th>8</th><td>17.8667</td><td>0.0</td><td>18.1</td><td>0</td><td>0.671</td><td>6.223</td><td>100.0</td><td>1.3861</td><td>24</td><td>666</td></tr><tr><th>9</th><td>0.02763</td><td>75.0</td><td>2.95</td><td>0</td><td>0.428</td><td>6.595</td><td>21.8</td><td>5.4011</td><td>3</td><td>252</td></tr><tr><th>10</th><td>0.51183</td><td>0.0</td><td>6.2</td><td>0</td><td>0.507</td><td>7.358</td><td>71.6</td><td>4.148</td><td>8</td><td>307</td></tr><tr><th>11</th><td>15.0234</td><td>0.0</td><td>18.1</td><td>0</td><td>0.614</td><td>5.304</td><td>97.3</td><td>2.1007</td><td>24</td><td>666</td></tr><tr><th>12</th><td>0.01501</td><td>80.0</td><td>2.01</td><td>0</td><td>0.435</td><td>6.635</td><td>29.7</td><td>8.344</td><td>4</td><td>280</td></tr><tr><th>13</th><td>12.2472</td><td>0.0</td><td>18.1</td><td>0</td><td>0.584</td><td>5.837</td><td>59.7</td><td>1.9976</td><td>24</td><td>666</td></tr><tr><th>14</th><td>11.5779</td><td>0.0</td><td>18.1</td><td>0</td><td>0.7</td><td>5.036</td><td>97.0</td><td>1.77</td><td>24</td><td>666</td></tr><tr><th>15</th><td>0.26363</td><td>0.0</td><td>8.56</td><td>0</td><td>0.52</td><td>6.229</td><td>91.2</td><td>2.5451</td><td>5</td><td>384</td></tr><tr><th>16</th><td>0.01096</td><td>55.0</td><td>2.25</td><td>0</td><td>0.389</td><td>6.453</td><td>31.9</td><td>7.3073</td><td>1</td><td>300</td></tr><tr><th>17</th><td>0.03615</td><td>80.0</td><td>4.95</td><td>0</td><td>0.411</td><td>6.63</td><td>23.4</td><td>5.1167</td><td>4</td><td>245</td></tr><tr><th>18</th><td>0.02729</td><td>0.0</td><td>7.07</td><td>0</td><td>0.469</td><td>7.185</td><td>61.1</td><td>4.9671</td><td>2</td><td>242</td></tr><tr><th>19</th><td>3.8497</td><td>0.0</td><td>18.1</td><td>1</td><td>0.77</td><td>6.395</td><td>91.0</td><td>2.5052</td><td>24</td><td>666</td></tr><tr><th>20</th><td>0.79041</td><td>0.0</td><td>9.9</td><td>0</td><td>0.544</td><td>6.122</td><td>52.8</td><td>2.6403</td><td>4</td><td>304</td></tr><tr><th>21</th><td>4.0974</td><td>0.0</td><td>19.58</td><td>0</td><td>0.871</td><td>5.468</td><td>100.0</td><td>1.4118</td><td>5</td><td>403</td></tr><tr><th>22</th><td>0.12083</td><td>0.0</td><td>2.89</td><td>0</td><td>0.445</td><td>8.069</td><td>76.0</td><td>3.4952</td><td>2</td><td>276</td></tr><tr><th>23</th><td>13.3598</td><td>0.0</td><td>18.1</td><td>0</td><td>0.693</td><td>5.887</td><td>94.7</td><td>1.7821</td><td>24</td><td>666</td></tr><tr><th>24</th><td>0.17899</td><td>0.0</td><td>9.69</td><td>0</td><td>0.585</td><td>5.67</td><td>28.8</td><td>2.7986</td><td>6</td><td>391</td></tr><tr><th>25</th><td>0.06911</td><td>45.0</td><td>3.44</td><td>0</td><td>0.437</td><td>6.739</td><td>30.8</td><td>6.4798</td><td>5</td><td>398</td></tr><tr><th>26</th><td>6.28807</td><td>0.0</td><td>18.1</td><td>0</td><td>0.74</td><td>6.341</td><td>96.4</td><td>2.072</td><td>24</td><td>666</td></tr><tr><th>27</th><td>0.11432</td><td>0.0</td><td>8.56</td><td>0</td><td>0.52</td><td>6.781</td><td>71.3</td><td>2.8561</td><td>5</td><td>384</td></tr><tr><th>28</th><td>0.22438</td><td>0.0</td><td>9.69</td><td>0</td><td>0.585</td><td>6.027</td><td>79.7</td><td>2.4982</td><td>6</td><td>391</td></tr><tr><th>29</th><td>0.20608</td><td>22.0</td><td>5.86</td><td>0</td><td>0.431</td><td>5.593</td><td>76.5</td><td>7.9549</td><td>7</td><td>330</td></tr><tr><th>30</th><td>0.21124</td><td>12.5</td><td>7.87</td><td>0</td><td>0.524</td><td>5.631</td><td>100.0</td><td>6.0821</td><td>5</td><td>311</td></tr><tr><th>&vellip;</th><td>&vellip;</td><td>&vellip;</td><td>&vellip;</td><td>&vellip;</td><td>&vellip;</td><td>&vellip;</td><td>&vellip;</td><td>&vellip;</td><td>&vellip;</td><td>&vellip;</td></tr></tbody></table>"
      ],
      "text/latex": [
       "\\begin{tabular}{r|ccccccccccc}\n",
       "\t& Crim & Zn & Indus & Chas & NOx & Rm & Age & Dis & Rad & Tax & \\\\\n",
       "\t\\hline\n",
       "\t& Float64 & Float64 & Float64 & Int64 & Float64 & Float64 & Float64 & Float64 & Int64 & Int64 & \\\\\n",
       "\t\\hline\n",
       "\t1 & 0.16211 & 20.0 & 6.96 & 0 & 0.464 & 6.24 & 16.3 & 4.429 & 3 & 223 & $\\dots$ \\\\\n",
       "\t2 & 0.1403 & 22.0 & 5.86 & 0 & 0.431 & 6.487 & 13.0 & 7.3967 & 7 & 330 & $\\dots$ \\\\\n",
       "\t3 & 0.44791 & 0.0 & 6.2 & 1 & 0.507 & 6.726 & 66.5 & 3.6519 & 8 & 307 & $\\dots$ \\\\\n",
       "\t4 & 7.40389 & 0.0 & 18.1 & 0 & 0.597 & 5.617 & 97.9 & 1.4547 & 24 & 666 & $\\dots$ \\\\\n",
       "\t5 & 0.04741 & 0.0 & 11.93 & 0 & 0.573 & 6.03 & 80.8 & 2.505 & 1 & 273 & $\\dots$ \\\\\n",
       "\t6 & 4.55587 & 0.0 & 18.1 & 0 & 0.718 & 3.561 & 87.9 & 1.6132 & 24 & 666 & $\\dots$ \\\\\n",
       "\t7 & 5.29305 & 0.0 & 18.1 & 0 & 0.7 & 6.051 & 82.5 & 2.1678 & 24 & 666 & $\\dots$ \\\\\n",
       "\t8 & 17.8667 & 0.0 & 18.1 & 0 & 0.671 & 6.223 & 100.0 & 1.3861 & 24 & 666 & $\\dots$ \\\\\n",
       "\t9 & 0.02763 & 75.0 & 2.95 & 0 & 0.428 & 6.595 & 21.8 & 5.4011 & 3 & 252 & $\\dots$ \\\\\n",
       "\t10 & 0.51183 & 0.0 & 6.2 & 0 & 0.507 & 7.358 & 71.6 & 4.148 & 8 & 307 & $\\dots$ \\\\\n",
       "\t11 & 15.0234 & 0.0 & 18.1 & 0 & 0.614 & 5.304 & 97.3 & 2.1007 & 24 & 666 & $\\dots$ \\\\\n",
       "\t12 & 0.01501 & 80.0 & 2.01 & 0 & 0.435 & 6.635 & 29.7 & 8.344 & 4 & 280 & $\\dots$ \\\\\n",
       "\t13 & 12.2472 & 0.0 & 18.1 & 0 & 0.584 & 5.837 & 59.7 & 1.9976 & 24 & 666 & $\\dots$ \\\\\n",
       "\t14 & 11.5779 & 0.0 & 18.1 & 0 & 0.7 & 5.036 & 97.0 & 1.77 & 24 & 666 & $\\dots$ \\\\\n",
       "\t15 & 0.26363 & 0.0 & 8.56 & 0 & 0.52 & 6.229 & 91.2 & 2.5451 & 5 & 384 & $\\dots$ \\\\\n",
       "\t16 & 0.01096 & 55.0 & 2.25 & 0 & 0.389 & 6.453 & 31.9 & 7.3073 & 1 & 300 & $\\dots$ \\\\\n",
       "\t17 & 0.03615 & 80.0 & 4.95 & 0 & 0.411 & 6.63 & 23.4 & 5.1167 & 4 & 245 & $\\dots$ \\\\\n",
       "\t18 & 0.02729 & 0.0 & 7.07 & 0 & 0.469 & 7.185 & 61.1 & 4.9671 & 2 & 242 & $\\dots$ \\\\\n",
       "\t19 & 3.8497 & 0.0 & 18.1 & 1 & 0.77 & 6.395 & 91.0 & 2.5052 & 24 & 666 & $\\dots$ \\\\\n",
       "\t20 & 0.79041 & 0.0 & 9.9 & 0 & 0.544 & 6.122 & 52.8 & 2.6403 & 4 & 304 & $\\dots$ \\\\\n",
       "\t21 & 4.0974 & 0.0 & 19.58 & 0 & 0.871 & 5.468 & 100.0 & 1.4118 & 5 & 403 & $\\dots$ \\\\\n",
       "\t22 & 0.12083 & 0.0 & 2.89 & 0 & 0.445 & 8.069 & 76.0 & 3.4952 & 2 & 276 & $\\dots$ \\\\\n",
       "\t23 & 13.3598 & 0.0 & 18.1 & 0 & 0.693 & 5.887 & 94.7 & 1.7821 & 24 & 666 & $\\dots$ \\\\\n",
       "\t24 & 0.17899 & 0.0 & 9.69 & 0 & 0.585 & 5.67 & 28.8 & 2.7986 & 6 & 391 & $\\dots$ \\\\\n",
       "\t25 & 0.06911 & 45.0 & 3.44 & 0 & 0.437 & 6.739 & 30.8 & 6.4798 & 5 & 398 & $\\dots$ \\\\\n",
       "\t26 & 6.28807 & 0.0 & 18.1 & 0 & 0.74 & 6.341 & 96.4 & 2.072 & 24 & 666 & $\\dots$ \\\\\n",
       "\t27 & 0.11432 & 0.0 & 8.56 & 0 & 0.52 & 6.781 & 71.3 & 2.8561 & 5 & 384 & $\\dots$ \\\\\n",
       "\t28 & 0.22438 & 0.0 & 9.69 & 0 & 0.585 & 6.027 & 79.7 & 2.4982 & 6 & 391 & $\\dots$ \\\\\n",
       "\t29 & 0.20608 & 22.0 & 5.86 & 0 & 0.431 & 5.593 & 76.5 & 7.9549 & 7 & 330 & $\\dots$ \\\\\n",
       "\t30 & 0.21124 & 12.5 & 7.87 & 0 & 0.524 & 5.631 & 100.0 & 6.0821 & 5 & 311 & $\\dots$ \\\\\n",
       "\t$\\dots$ & $\\dots$ & $\\dots$ & $\\dots$ & $\\dots$ & $\\dots$ & $\\dots$ & $\\dots$ & $\\dots$ & $\\dots$ & $\\dots$ &  \\\\\n",
       "\\end{tabular}\n"
      ],
      "text/plain": [
       "101×14 DataFrame. Omitted printing of 7 columns\n",
       "│ Row │ Crim    │ Zn      │ Indus   │ Chas  │ NOx     │ Rm      │ Age     │\n",
       "│     │ \u001b[90mFloat64\u001b[39m │ \u001b[90mFloat64\u001b[39m │ \u001b[90mFloat64\u001b[39m │ \u001b[90mInt64\u001b[39m │ \u001b[90mFloat64\u001b[39m │ \u001b[90mFloat64\u001b[39m │ \u001b[90mFloat64\u001b[39m │\n",
       "├─────┼─────────┼─────────┼─────────┼───────┼─────────┼─────────┼─────────┤\n",
       "│ 1   │ 0.16211 │ 20.0    │ 6.96    │ 0     │ 0.464   │ 6.24    │ 16.3    │\n",
       "│ 2   │ 0.1403  │ 22.0    │ 5.86    │ 0     │ 0.431   │ 6.487   │ 13.0    │\n",
       "│ 3   │ 0.44791 │ 0.0     │ 6.2     │ 1     │ 0.507   │ 6.726   │ 66.5    │\n",
       "│ 4   │ 7.40389 │ 0.0     │ 18.1    │ 0     │ 0.597   │ 5.617   │ 97.9    │\n",
       "│ 5   │ 0.04741 │ 0.0     │ 11.93   │ 0     │ 0.573   │ 6.03    │ 80.8    │\n",
       "│ 6   │ 4.55587 │ 0.0     │ 18.1    │ 0     │ 0.718   │ 3.561   │ 87.9    │\n",
       "│ 7   │ 5.29305 │ 0.0     │ 18.1    │ 0     │ 0.7     │ 6.051   │ 82.5    │\n",
       "│ 8   │ 17.8667 │ 0.0     │ 18.1    │ 0     │ 0.671   │ 6.223   │ 100.0   │\n",
       "│ 9   │ 0.02763 │ 75.0    │ 2.95    │ 0     │ 0.428   │ 6.595   │ 21.8    │\n",
       "│ 10  │ 0.51183 │ 0.0     │ 6.2     │ 0     │ 0.507   │ 7.358   │ 71.6    │\n",
       "⋮\n",
       "│ 91  │ 0.55778 │ 0.0     │ 21.89   │ 0     │ 0.624   │ 6.335   │ 98.2    │\n",
       "│ 92  │ 0.97617 │ 0.0     │ 21.89   │ 0     │ 0.624   │ 5.757   │ 98.4    │\n",
       "│ 93  │ 0.01439 │ 60.0    │ 2.93    │ 0     │ 0.401   │ 6.604   │ 18.8    │\n",
       "│ 94  │ 20.7162 │ 0.0     │ 18.1    │ 0     │ 0.659   │ 4.138   │ 100.0   │\n",
       "│ 95  │ 0.03932 │ 0.0     │ 3.41    │ 0     │ 0.489   │ 6.405   │ 73.9    │\n",
       "│ 96  │ 9.92485 │ 0.0     │ 18.1    │ 0     │ 0.74    │ 6.251   │ 96.6    │\n",
       "│ 97  │ 15.1772 │ 0.0     │ 18.1    │ 0     │ 0.74    │ 6.152   │ 100.0   │\n",
       "│ 98  │ 0.31533 │ 0.0     │ 6.2     │ 0     │ 0.504   │ 8.266   │ 78.3    │\n",
       "│ 99  │ 3.83684 │ 0.0     │ 18.1    │ 0     │ 0.77    │ 6.251   │ 91.1    │\n",
       "│ 100 │ 0.33045 │ 0.0     │ 6.2     │ 0     │ 0.507   │ 6.086   │ 61.5    │\n",
       "│ 101 │ 2.44953 │ 0.0     │ 19.58   │ 0     │ 0.605   │ 6.402   │ 95.2    │"
      ]
     },
     "execution_count": 5,
     "metadata": {},
     "output_type": "execute_result"
    }
   ],
   "source": [
    "train = boston[train_ind, :]\n",
    "test = boston[test_ind, :]"
   ]
  },
  {
   "cell_type": "code",
   "execution_count": 6,
   "metadata": {},
   "outputs": [
    {
     "data": {
      "text/plain": [
       "StatsModels.TableRegressionModel{LinearModel{GLM.LmResp{Array{Float64,1}},GLM.DensePredChol{Float64,LinearAlgebra.Cholesky{Float64,Array{Float64,2}}}},Array{Float64,2}}\n",
       "\n",
       "MedV ~ 1 + Crim + Zn + Indus + Chas + NOx + Rm + Age + Dis + Rad + Tax + PTRatio + Black + LStat\n",
       "\n",
       "Coefficients:\n",
       "─────────────────────────────────────────────────────────────────────────────────────\n",
       "                 Estimate  Std. Error    t value  Pr(>|t|)     Lower 95%    Upper 95%\n",
       "─────────────────────────────────────────────────────────────────────────────────────\n",
       "(Intercept)   38.8415      5.77008      6.73154     <1e-10   27.4972      50.1858\n",
       "Crim          -0.109978    0.0382273   -2.87694     0.0042   -0.185134    -0.0348208\n",
       "Zn             0.0615879   0.0154155    3.99518     <1e-4     0.0312802    0.0918956\n",
       "Indus          0.016847    0.0728532    0.231246    0.8172   -0.126386     0.16008\n",
       "Chas           2.30515     0.944612     2.44031     0.0151    0.447993     4.1623\n",
       "NOx          -17.9755      4.22133     -4.25826     <1e-4   -26.2748      -9.67616\n",
       "Rm             3.36411     0.498115     6.75367     <1e-10    2.38479      4.34343\n",
       "Age           -0.00546355  0.0147193   -0.371183    0.7107   -0.0344024    0.0234753\n",
       "Dis           -1.55826     0.221221    -7.04391     <1e-11   -1.99319     -1.12333\n",
       "Rad            0.327398    0.0729079    4.49057     <1e-5     0.184057     0.470738\n",
       "Tax           -0.0129413   0.00415325  -3.11594     0.0020   -0.0211068   -0.00477579\n",
       "PTRatio       -0.85998     0.14855     -5.78917     <1e-7    -1.15204     -0.567924\n",
       "Black          0.00893482  0.00296051   3.018       0.0027    0.00311431   0.0147553\n",
       "LStat         -0.548158    0.0571222   -9.59624     <1e-18   -0.660463    -0.435853\n",
       "─────────────────────────────────────────────────────────────────────────────────────"
      ]
     },
     "execution_count": 6,
     "metadata": {},
     "output_type": "execute_result"
    }
   ],
   "source": [
    "ols = GLM.lm(@formula(MedV ~ Crim + Zn + Indus + Chas + NOx + Rm + Age + Dis + Rad + Tax + PTRatio + Black + LStat), train)"
   ]
  },
  {
   "cell_type": "code",
   "execution_count": 7,
   "metadata": {},
   "outputs": [
    {
     "data": {
      "text/plain": [
       "101-element Array{Union{Missing, Float64},1}:\n",
       " 27.86799452362333\n",
       " 24.660311647473925\n",
       " 31.149491302880534\n",
       " 13.902214224647611\n",
       " 22.639549136023327\n",
       " 15.857866545362478\n",
       " 17.473281260165834\n",
       " 16.794660622246273\n",
       " 32.614769898817165\n",
       " 32.24927997943323\n",
       " 11.830376624721431\n",
       " 28.413712204694804\n",
       " 16.985838236240266\n",
       "  ⋮\n",
       " 20.459464904415903\n",
       " 17.07049865690348\n",
       " 13.341832330369447\n",
       " 32.245527421105315\n",
       "  8.941668952215485\n",
       " 27.304042933945027\n",
       " 18.155919311494145\n",
       "  8.793741959587704\n",
       " 37.57481769983744\n",
       " 19.05931180722996\n",
       " 25.328134709187662\n",
       " 26.0417358785166"
      ]
     },
     "execution_count": 7,
     "metadata": {},
     "output_type": "execute_result"
    }
   ],
   "source": [
    "predict(ols, test)"
   ]
  },
  {
   "cell_type": "code",
   "execution_count": 8,
   "metadata": {},
   "outputs": [
    {
     "data": {
      "text/plain": [
       "0.7243074054101197"
      ]
     },
     "execution_count": 8,
     "metadata": {},
     "output_type": "execute_result"
    }
   ],
   "source": [
    "GLM.r²(ols)"
   ]
  },
  {
   "cell_type": "code",
   "execution_count": 9,
   "metadata": {},
   "outputs": [
    {
     "data": {
      "text/plain": [
       "0.7151411554621185"
      ]
     },
     "execution_count": 9,
     "metadata": {},
     "output_type": "execute_result"
    }
   ],
   "source": [
    "GLM.adjr²(ols)"
   ]
  }
 ],
 "metadata": {
  "kernelspec": {
   "display_name": "Julia 1.4.0",
   "language": "julia",
   "name": "julia-1.4"
  },
  "language_info": {
   "file_extension": ".jl",
   "mimetype": "application/julia",
   "name": "julia",
   "version": "1.4.0"
  }
 },
 "nbformat": 4,
 "nbformat_minor": 4
}
